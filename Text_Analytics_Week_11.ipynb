{
  "nbformat": 4,
  "nbformat_minor": 0,
  "metadata": {
    "colab": {
      "provenance": [],
      "authorship_tag": "ABX9TyPVO9BBBXGqyTCEyVvz0sJM",
      "include_colab_link": true
    },
    "kernelspec": {
      "name": "python3",
      "display_name": "Python 3"
    },
    "language_info": {
      "name": "python"
    }
  },
  "cells": [
    {
      "cell_type": "markdown",
      "metadata": {
        "id": "view-in-github",
        "colab_type": "text"
      },
      "source": [
        "<a href=\"https://colab.research.google.com/github/skeew0813/Text_Analytics/blob/main/Text_Analytics_Week_11.ipynb\" target=\"_parent\"><img src=\"https://colab.research.google.com/assets/colab-badge.svg\" alt=\"Open In Colab\"/></a>"
      ]
    },
    {
      "cell_type": "markdown",
      "source": [
        "**Title**: Text Analytics: Week 11  \n",
        "**Author**: Ryan Weeks  \n",
        "**Date**: 5/25/2025  \n",
        "**Description**:  This notebook uses a deep learning approach to classify hotel reviews as either positive (\"happy\") or negative (\"not happy\"). The text is embedded using TensorFlow’s Universal Sentence Encoder (USE), then passed through a dense neural network for classification. Performance is evaluated using accuracy, AUC, precision, and recall — reported in a format consistent with Chapter 10 of the textbook."
      ],
      "metadata": {
        "id": "pczwa2oB76sy"
      }
    },
    {
      "cell_type": "code",
      "source": [
        "from google.colab import files\n",
        "\n",
        "# Upload the CSV file\n",
        "uploaded = files.upload()"
      ],
      "metadata": {
        "colab": {
          "base_uri": "https://localhost:8080/",
          "height": 73
        },
        "id": "OW82Ri4X8mu-",
        "outputId": "8edabc5b-c5db-44cd-8df7-ca9c1d20a432"
      },
      "execution_count": 2,
      "outputs": [
        {
          "output_type": "display_data",
          "data": {
            "text/plain": [
              "<IPython.core.display.HTML object>"
            ],
            "text/html": [
              "\n",
              "     <input type=\"file\" id=\"files-72b033de-e776-46a7-b030-ea40a3f97c01\" name=\"files[]\" multiple disabled\n",
              "        style=\"border:none\" />\n",
              "     <output id=\"result-72b033de-e776-46a7-b030-ea40a3f97c01\">\n",
              "      Upload widget is only available when the cell has been executed in the\n",
              "      current browser session. Please rerun this cell to enable.\n",
              "      </output>\n",
              "      <script>// Copyright 2017 Google LLC\n",
              "//\n",
              "// Licensed under the Apache License, Version 2.0 (the \"License\");\n",
              "// you may not use this file except in compliance with the License.\n",
              "// You may obtain a copy of the License at\n",
              "//\n",
              "//      http://www.apache.org/licenses/LICENSE-2.0\n",
              "//\n",
              "// Unless required by applicable law or agreed to in writing, software\n",
              "// distributed under the License is distributed on an \"AS IS\" BASIS,\n",
              "// WITHOUT WARRANTIES OR CONDITIONS OF ANY KIND, either express or implied.\n",
              "// See the License for the specific language governing permissions and\n",
              "// limitations under the License.\n",
              "\n",
              "/**\n",
              " * @fileoverview Helpers for google.colab Python module.\n",
              " */\n",
              "(function(scope) {\n",
              "function span(text, styleAttributes = {}) {\n",
              "  const element = document.createElement('span');\n",
              "  element.textContent = text;\n",
              "  for (const key of Object.keys(styleAttributes)) {\n",
              "    element.style[key] = styleAttributes[key];\n",
              "  }\n",
              "  return element;\n",
              "}\n",
              "\n",
              "// Max number of bytes which will be uploaded at a time.\n",
              "const MAX_PAYLOAD_SIZE = 100 * 1024;\n",
              "\n",
              "function _uploadFiles(inputId, outputId) {\n",
              "  const steps = uploadFilesStep(inputId, outputId);\n",
              "  const outputElement = document.getElementById(outputId);\n",
              "  // Cache steps on the outputElement to make it available for the next call\n",
              "  // to uploadFilesContinue from Python.\n",
              "  outputElement.steps = steps;\n",
              "\n",
              "  return _uploadFilesContinue(outputId);\n",
              "}\n",
              "\n",
              "// This is roughly an async generator (not supported in the browser yet),\n",
              "// where there are multiple asynchronous steps and the Python side is going\n",
              "// to poll for completion of each step.\n",
              "// This uses a Promise to block the python side on completion of each step,\n",
              "// then passes the result of the previous step as the input to the next step.\n",
              "function _uploadFilesContinue(outputId) {\n",
              "  const outputElement = document.getElementById(outputId);\n",
              "  const steps = outputElement.steps;\n",
              "\n",
              "  const next = steps.next(outputElement.lastPromiseValue);\n",
              "  return Promise.resolve(next.value.promise).then((value) => {\n",
              "    // Cache the last promise value to make it available to the next\n",
              "    // step of the generator.\n",
              "    outputElement.lastPromiseValue = value;\n",
              "    return next.value.response;\n",
              "  });\n",
              "}\n",
              "\n",
              "/**\n",
              " * Generator function which is called between each async step of the upload\n",
              " * process.\n",
              " * @param {string} inputId Element ID of the input file picker element.\n",
              " * @param {string} outputId Element ID of the output display.\n",
              " * @return {!Iterable<!Object>} Iterable of next steps.\n",
              " */\n",
              "function* uploadFilesStep(inputId, outputId) {\n",
              "  const inputElement = document.getElementById(inputId);\n",
              "  inputElement.disabled = false;\n",
              "\n",
              "  const outputElement = document.getElementById(outputId);\n",
              "  outputElement.innerHTML = '';\n",
              "\n",
              "  const pickedPromise = new Promise((resolve) => {\n",
              "    inputElement.addEventListener('change', (e) => {\n",
              "      resolve(e.target.files);\n",
              "    });\n",
              "  });\n",
              "\n",
              "  const cancel = document.createElement('button');\n",
              "  inputElement.parentElement.appendChild(cancel);\n",
              "  cancel.textContent = 'Cancel upload';\n",
              "  const cancelPromise = new Promise((resolve) => {\n",
              "    cancel.onclick = () => {\n",
              "      resolve(null);\n",
              "    };\n",
              "  });\n",
              "\n",
              "  // Wait for the user to pick the files.\n",
              "  const files = yield {\n",
              "    promise: Promise.race([pickedPromise, cancelPromise]),\n",
              "    response: {\n",
              "      action: 'starting',\n",
              "    }\n",
              "  };\n",
              "\n",
              "  cancel.remove();\n",
              "\n",
              "  // Disable the input element since further picks are not allowed.\n",
              "  inputElement.disabled = true;\n",
              "\n",
              "  if (!files) {\n",
              "    return {\n",
              "      response: {\n",
              "        action: 'complete',\n",
              "      }\n",
              "    };\n",
              "  }\n",
              "\n",
              "  for (const file of files) {\n",
              "    const li = document.createElement('li');\n",
              "    li.append(span(file.name, {fontWeight: 'bold'}));\n",
              "    li.append(span(\n",
              "        `(${file.type || 'n/a'}) - ${file.size} bytes, ` +\n",
              "        `last modified: ${\n",
              "            file.lastModifiedDate ? file.lastModifiedDate.toLocaleDateString() :\n",
              "                                    'n/a'} - `));\n",
              "    const percent = span('0% done');\n",
              "    li.appendChild(percent);\n",
              "\n",
              "    outputElement.appendChild(li);\n",
              "\n",
              "    const fileDataPromise = new Promise((resolve) => {\n",
              "      const reader = new FileReader();\n",
              "      reader.onload = (e) => {\n",
              "        resolve(e.target.result);\n",
              "      };\n",
              "      reader.readAsArrayBuffer(file);\n",
              "    });\n",
              "    // Wait for the data to be ready.\n",
              "    let fileData = yield {\n",
              "      promise: fileDataPromise,\n",
              "      response: {\n",
              "        action: 'continue',\n",
              "      }\n",
              "    };\n",
              "\n",
              "    // Use a chunked sending to avoid message size limits. See b/62115660.\n",
              "    let position = 0;\n",
              "    do {\n",
              "      const length = Math.min(fileData.byteLength - position, MAX_PAYLOAD_SIZE);\n",
              "      const chunk = new Uint8Array(fileData, position, length);\n",
              "      position += length;\n",
              "\n",
              "      const base64 = btoa(String.fromCharCode.apply(null, chunk));\n",
              "      yield {\n",
              "        response: {\n",
              "          action: 'append',\n",
              "          file: file.name,\n",
              "          data: base64,\n",
              "        },\n",
              "      };\n",
              "\n",
              "      let percentDone = fileData.byteLength === 0 ?\n",
              "          100 :\n",
              "          Math.round((position / fileData.byteLength) * 100);\n",
              "      percent.textContent = `${percentDone}% done`;\n",
              "\n",
              "    } while (position < fileData.byteLength);\n",
              "  }\n",
              "\n",
              "  // All done.\n",
              "  yield {\n",
              "    response: {\n",
              "      action: 'complete',\n",
              "    }\n",
              "  };\n",
              "}\n",
              "\n",
              "scope.google = scope.google || {};\n",
              "scope.google.colab = scope.google.colab || {};\n",
              "scope.google.colab._files = {\n",
              "  _uploadFiles,\n",
              "  _uploadFilesContinue,\n",
              "};\n",
              "})(self);\n",
              "</script> "
            ]
          },
          "metadata": {}
        },
        {
          "output_type": "stream",
          "name": "stdout",
          "text": [
            "Saving hotel-reviews.csv to hotel-reviews (2).csv\n"
          ]
        }
      ]
    },
    {
      "cell_type": "markdown",
      "source": [
        "## 📌 Step 1: Load and Prepare the Dataset  \n",
        "After uploading the CSV file, we’ll load it using pandas and convert the sentiment label into binary form (1 = happy, 0 = not happy).  \n",
        "We'll also split the data into training and test sets using stratification to maintain class balance.\n"
      ],
      "metadata": {
        "id": "vxHGr4nQ8tL7"
      }
    },
    {
      "cell_type": "code",
      "source": [
        "import pandas as pd\n",
        "from sklearn.model_selection import train_test_split\n",
        "\n",
        "# Load dataset\n",
        "df = pd.read_csv(\"hotel-reviews.csv\")\n",
        "df = df[['Description', 'Is_Response']].copy()\n",
        "df['Is_Response'] = df['Is_Response'].map({'happy': 1, 'not happy': 0})\n",
        "df.dropna(inplace=True)\n",
        "\n",
        "# Split into training and testing sets\n",
        "X_train, X_test, y_train, y_test = train_test_split(\n",
        "    df['Description'], df['Is_Response'],\n",
        "    test_size=0.2, stratify=df['Is_Response'], random_state=42\n",
        ")\n"
      ],
      "metadata": {
        "id": "QaHHVLOc8vEH"
      },
      "execution_count": 3,
      "outputs": []
    },
    {
      "cell_type": "markdown",
      "source": [
        "## 📌 Step 2: Embed the Text Using Universal Sentence Encoder (with Batching)  \n",
        "Because we're working with a large number of reviews, embedding them all at once can exceed Colab's memory limit.  \n",
        "To avoid this, we'll embed the reviews in smaller batches using a loop and stack the results together.\n"
      ],
      "metadata": {
        "id": "HHZxdC6y82ac"
      }
    },
    {
      "cell_type": "code",
      "source": [
        "import tensorflow as tf\n",
        "import tensorflow_hub as hub\n",
        "import numpy as np\n",
        "\n",
        "# Load the USE model\n",
        "use_embed = hub.load(\"https://tfhub.dev/google/universal-sentence-encoder/4\")\n",
        "\n",
        "# Helper function to embed in batches\n",
        "def embed_text_in_batches(text_list, batch_size=512):\n",
        "    embeddings = []\n",
        "    for i in range(0, len(text_list), batch_size):\n",
        "        batch = text_list[i:i+batch_size]\n",
        "        batch_embeddings = use_embed(batch)\n",
        "        embeddings.append(batch_embeddings)\n",
        "    return tf.concat(embeddings, axis=0)\n",
        "\n",
        "# Embed training and testing data with batching\n",
        "X_train_embed = embed_text_in_batches(X_train.tolist())\n",
        "X_test_embed = embed_text_in_batches(X_test.tolist())"
      ],
      "metadata": {
        "id": "lG8srTTs82-a"
      },
      "execution_count": 4,
      "outputs": []
    },
    {
      "cell_type": "markdown",
      "source": [
        "## 📌 Step 3: Build and Train the Neural Network  \n",
        "Now that we’ve converted our reviews into 512-dimensional embeddings, we’ll define a simple feedforward neural network using TensorFlow/Keras.  \n",
        "The network will use a dense hidden layer with ReLU activation, dropout for regularization, and a sigmoid output layer for binary classification.\n"
      ],
      "metadata": {
        "id": "v5QkseQG-T24"
      }
    },
    {
      "cell_type": "code",
      "source": [
        "from tensorflow.keras.models import Sequential\n",
        "from tensorflow.keras.layers import Dense, Dropout\n",
        "from tensorflow.keras.callbacks import EarlyStopping\n",
        "\n",
        "# Build the model\n",
        "model = Sequential([\n",
        "    Dense(128, activation='relu', input_shape=(512,)),\n",
        "    Dropout(0.3),\n",
        "    Dense(1, activation='sigmoid')\n",
        "])\n",
        "\n",
        "# Compile the model\n",
        "model.compile(optimizer='adam',\n",
        "              loss='binary_crossentropy',\n",
        "              metrics=['accuracy'])\n",
        "\n",
        "# Early stopping to prevent overfitting\n",
        "early_stop = EarlyStopping(monitor='val_loss', patience=3, restore_best_weights=True)\n",
        "\n",
        "# Train the model\n",
        "history = model.fit(\n",
        "    X_train_embed, y_train,\n",
        "    epochs=10,\n",
        "    batch_size=32,\n",
        "    validation_split=0.2,\n",
        "    callbacks=[early_stop],\n",
        "    verbose=1\n",
        ")"
      ],
      "metadata": {
        "colab": {
          "base_uri": "https://localhost:8080/"
        },
        "id": "kx_VIujm88TG",
        "outputId": "596c250d-9673-46b2-bb51-37700acd8879"
      },
      "execution_count": 5,
      "outputs": [
        {
          "output_type": "stream",
          "name": "stdout",
          "text": [
            "Epoch 1/10\n"
          ]
        },
        {
          "output_type": "stream",
          "name": "stderr",
          "text": [
            "/usr/local/lib/python3.11/dist-packages/keras/src/layers/core/dense.py:87: UserWarning: Do not pass an `input_shape`/`input_dim` argument to a layer. When using Sequential models, prefer using an `Input(shape)` object as the first layer in the model instead.\n",
            "  super().__init__(activity_regularizer=activity_regularizer, **kwargs)\n"
          ]
        },
        {
          "output_type": "stream",
          "name": "stdout",
          "text": [
            "\u001b[1m779/779\u001b[0m \u001b[32m━━━━━━━━━━━━━━━━━━━━\u001b[0m\u001b[37m\u001b[0m \u001b[1m5s\u001b[0m 4ms/step - accuracy: 0.8130 - loss: 0.4156 - val_accuracy: 0.8666 - val_loss: 0.3211\n",
            "Epoch 2/10\n",
            "\u001b[1m779/779\u001b[0m \u001b[32m━━━━━━━━━━━━━━━━━━━━\u001b[0m\u001b[37m\u001b[0m \u001b[1m5s\u001b[0m 4ms/step - accuracy: 0.8629 - loss: 0.3239 - val_accuracy: 0.8616 - val_loss: 0.3181\n",
            "Epoch 3/10\n",
            "\u001b[1m779/779\u001b[0m \u001b[32m━━━━━━━━━━━━━━━━━━━━\u001b[0m\u001b[37m\u001b[0m \u001b[1m4s\u001b[0m 5ms/step - accuracy: 0.8650 - loss: 0.3135 - val_accuracy: 0.8708 - val_loss: 0.3118\n",
            "Epoch 4/10\n",
            "\u001b[1m779/779\u001b[0m \u001b[32m━━━━━━━━━━━━━━━━━━━━\u001b[0m\u001b[37m\u001b[0m \u001b[1m4s\u001b[0m 4ms/step - accuracy: 0.8676 - loss: 0.3073 - val_accuracy: 0.8676 - val_loss: 0.3152\n",
            "Epoch 5/10\n",
            "\u001b[1m779/779\u001b[0m \u001b[32m━━━━━━━━━━━━━━━━━━━━\u001b[0m\u001b[37m\u001b[0m \u001b[1m3s\u001b[0m 4ms/step - accuracy: 0.8721 - loss: 0.3018 - val_accuracy: 0.8658 - val_loss: 0.3164\n",
            "Epoch 6/10\n",
            "\u001b[1m779/779\u001b[0m \u001b[32m━━━━━━━━━━━━━━━━━━━━\u001b[0m\u001b[37m\u001b[0m \u001b[1m6s\u001b[0m 6ms/step - accuracy: 0.8718 - loss: 0.2924 - val_accuracy: 0.8690 - val_loss: 0.3128\n"
          ]
        }
      ]
    },
    {
      "cell_type": "markdown",
      "source": [
        "## 📌 Step 4: Evaluate Model Performance  \n",
        "Now that the model is trained, we’ll evaluate it on both the training and test sets.  \n",
        "We'll collect metrics like accuracy, AUC, precision, and recall, and format the results in a markdown table similar to the one shown in Chapter 10 of the textbook.\n"
      ],
      "metadata": {
        "id": "jXvkrQjA-r9d"
      }
    },
    {
      "cell_type": "code",
      "source": [
        "from sklearn.metrics import precision_score, recall_score, roc_auc_score\n",
        "\n",
        "# Predict probabilities\n",
        "y_train_prob = model.predict(X_train_embed).flatten()\n",
        "y_test_prob = model.predict(X_test_embed).flatten()\n",
        "\n",
        "# Convert probabilities to binary predictions\n",
        "y_train_pred = (y_train_prob > 0.5).astype(int)\n",
        "y_test_pred = (y_test_prob > 0.5).astype(int)\n",
        "\n",
        "# Accuracy\n",
        "train_acc = model.evaluate(X_train_embed, y_train, verbose=0)[1]\n",
        "test_acc = model.evaluate(X_test_embed, y_test, verbose=0)[1]\n",
        "\n",
        "# AUC\n",
        "train_auc = roc_auc_score(y_train, y_train_prob)\n",
        "test_auc = roc_auc_score(y_test, y_test_prob)\n",
        "\n",
        "# Precision\n",
        "train_prec = precision_score(y_train, y_train_pred)\n",
        "test_prec = precision_score(y_test, y_test_pred)\n",
        "\n",
        "# Recall\n",
        "train_rec = recall_score(y_train, y_train_pred)\n",
        "test_rec = recall_score(y_test, y_test_pred)\n",
        "\n",
        "# Print results for the markdown table\n",
        "print(f\"Training Accuracy: {train_acc:.6f}\")\n",
        "print(f\"Test Accuracy: {test_acc:.6f}\")\n",
        "print(f\"Training AUC: {train_auc:.6f}\")\n",
        "print(f\"Test AUC: {test_auc:.6f}\")\n",
        "print(f\"Training Precision: {train_prec:.6f}\")\n",
        "print(f\"Test Precision: {test_prec:.6f}\")\n",
        "print(f\"Training Recall: {train_rec:.6f}\")\n",
        "print(f\"Test Recall: {test_rec:.6f}\")"
      ],
      "metadata": {
        "colab": {
          "base_uri": "https://localhost:8080/"
        },
        "id": "VjDhoK-Q-bQ7",
        "outputId": "cdc410bc-b9cc-439c-d561-a444b89b86bc"
      },
      "execution_count": 6,
      "outputs": [
        {
          "output_type": "stream",
          "name": "stdout",
          "text": [
            "\u001b[1m974/974\u001b[0m \u001b[32m━━━━━━━━━━━━━━━━━━━━\u001b[0m\u001b[37m\u001b[0m \u001b[1m3s\u001b[0m 3ms/step\n",
            "\u001b[1m244/244\u001b[0m \u001b[32m━━━━━━━━━━━━━━━━━━━━\u001b[0m\u001b[37m\u001b[0m \u001b[1m1s\u001b[0m 3ms/step\n",
            "Training Accuracy: 0.871247\n",
            "Test Accuracy: 0.870425\n",
            "Training AUC: 0.933290\n",
            "Test AUC: 0.930245\n",
            "Training Precision: 0.880563\n",
            "Test Precision: 0.881528\n",
            "Training Recall: 0.938254\n",
            "Test Recall: 0.935533\n"
          ]
        }
      ]
    },
    {
      "cell_type": "markdown",
      "source": [
        "## 📊 Model Evaluation Metrics\n",
        "\n",
        "| Model Dir | Training Accuracy | Test Accuracy | Training AUC | Test AUC | Training Precision | Test Precision | Training Recall | Test Recall |\n",
        "|-----------|-------------------|---------------|--------------|----------|---------------------|----------------|------------------|-------------|\n",
        "| use-512   | 0.871247          | 0.870425      | 0.933290     | 0.930245 | 0.880563            | 0.881528       | 0.938254         | 0.935533    |\n"
      ],
      "metadata": {
        "id": "oe1ClbtO_Atb"
      }
    },
    {
      "cell_type": "markdown",
      "source": [
        "## 🧠 Final Thoughts\n",
        "\n",
        "The deep learning model performed well across all key evaluation metrics, with both training and test accuracy above 87%, and AUC scores above 0.93 — suggesting strong model performance and generalization. Precision and recall were also well-balanced, indicating that the model can reliably distinguish between positive and negative hotel reviews.\n",
        "\n",
        "Using the Universal Sentence Encoder allowed us to skip traditional text preprocessing while still capturing meaningful semantic information. For future improvements, it may be worth experimenting with:\n",
        "\n",
        "- Different embedding models (e.g., NNLM or BERT variants)\n",
        "- Hyperparameter tuning (dropout rate, learning rate, hidden layer size)\n",
        "- More advanced architectures (e.g., LSTM or transformer layers)\n",
        "\n",
        "Overall, this workflow showcases how powerful pretrained embeddings can be when combined with a straightforward neural network architecture.\n"
      ],
      "metadata": {
        "id": "xjJYbDnk_l5f"
      }
    }
  ]
}