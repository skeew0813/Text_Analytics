{
 "cells": [
  {
   "cell_type": "markdown",
   "id": "f7623e2d-4958-4b1a-b98e-271d4130b79b",
   "metadata": {},
   "source": [
    "**Title**: Text Analytics 2.2 Exercises  \n",
    "**Author**: Ryan Weeks  \n",
    "**Date**: 3/16/2025  \n",
    "**Description**: This exercise demonstrates how to interact with a simple public API using Python. We use the Bored API to fetch a random activity in JSON format, extract the unique key from the response, and then use that key to request the same activity again. Finally, we display the activity details in a clean, formatted output. This assignment helps build foundational skills in working with APIs, handling JSON data, and making HTTP requests with the `requests` library."
   ]
  },
  {
   "cell_type": "markdown",
   "id": "f5219807-ebe6-4db8-a2b1-13c63f06f60d",
   "metadata": {},
   "source": [
    "### Import required libraries"
   ]
  },
  {
   "cell_type": "code",
   "execution_count": 1,
   "id": "a2ca5b9d-8cce-4a73-b4bb-393e58485499",
   "metadata": {},
   "outputs": [],
   "source": [
    "import requests # Importing requests to handle API calls\n",
    "import json # Importing JSON to format the output"
   ]
  },
  {
   "cell_type": "markdown",
   "id": "aac97a24-0f04-45fb-872c-ab186b32f737",
   "metadata": {},
   "source": [
    "## Step 1: Make a request to the Bored API\n",
    "- The Bored API provides random activity suggestions.  \n",
    "- We will use the base URL to get a random activity."
   ]
  },
  {
   "cell_type": "code",
   "execution_count": 6,
   "id": "ce6a9a39-74a7-4dc1-8075-0f29010705cc",
   "metadata": {},
   "outputs": [],
   "source": [
    "url = \"https://bored.api.lewagon.com/api/activity\"\n",
    "response = requests.get(url)\n",
    "\n",
    "# Check if request was successful\n",
    "if response.status_code == 200:\n",
    "    # Parse the response JSON into a Python dictionary\n",
    "    data = response.json()\n",
    "else:\n",
    "    print(\"Error fetching data from API\")\n",
    "    data = {}"
   ]
  },
  {
   "cell_type": "markdown",
   "id": "73e7e811-096f-4f30-8bd5-8696fa93bf27",
   "metadata": {},
   "source": [
    "## Step 2: Print the raw JSON response\n",
    "- This helps us understand the structure of the API response."
   ]
  },
  {
   "cell_type": "code",
   "execution_count": 11,
   "id": "59cdc1c1-729c-4657-8a83-e0f17deaa44c",
   "metadata": {},
   "outputs": [
    {
     "name": "stdout",
     "output_type": "stream",
     "text": [
      "Raw JSON response:\n",
      "{\n",
      "    \"activity\": \"Organize a bookshelf\",\n",
      "    \"type\": \"busywork\",\n",
      "    \"participants\": 1,\n",
      "    \"price\": 0,\n",
      "    \"link\": \"\",\n",
      "    \"key\": \"6098037\",\n",
      "    \"accessibility\": 0\n",
      "}\n"
     ]
    }
   ],
   "source": [
    "print(\"Raw JSON response:\")\n",
    "print(json.dumps(data, indent = 4)) # Pretty-print the JSON response"
   ]
  },
  {
   "cell_type": "markdown",
   "id": "a0ca79a1-5dd6-4130-a37b-7a42f079febe",
   "metadata": {},
   "source": [
    "## Step 3: Extract the key from the JSON response\n",
    "- The key uniquely identifies the activity."
   ]
  },
  {
   "cell_type": "code",
   "execution_count": 15,
   "id": "6eedba4c-cf19-4552-bd56-e7701bbec2bb",
   "metadata": {},
   "outputs": [],
   "source": [
    "activity_key = data.get(\"key\")"
   ]
  },
  {
   "cell_type": "markdown",
   "id": "f6fd7e74-fb80-4ba6-8def-357144988cea",
   "metadata": {},
   "source": [
    "## Step 4: Use the key to get the specific activity\n",
    "- We will make another request to the API, specifying the key."
   ]
  },
  {
   "cell_type": "code",
   "execution_count": 18,
   "id": "8cec6238-c17c-4f83-afe5-3d4a00015aef",
   "metadata": {},
   "outputs": [],
   "source": [
    "if activity_key:\n",
    "    specific_url = f\"https://bored.api.lewagon.com/api/activity?key={activity_key}\"\n",
    "    specific_response = requests.get(specific_url)\n",
    "\n",
    "    if specific_response.status_code == 200:\n",
    "        specific_data = specific_response.json()\n",
    "    else:\n",
    "        print(\"Error fetching specific activity\")\n",
    "        specific_data = {}\n",
    "else:\n",
    "    print(\"No key found in response\")\n",
    "    specific_data = {}"
   ]
  },
  {
   "cell_type": "markdown",
   "id": "cf2fe2fb-3e8c-4f40-a967-dfc307e58387",
   "metadata": {},
   "source": [
    "## Step 5: Print the formatted output\n",
    "- Each attribute will be printed separately."
   ]
  },
  {
   "cell_type": "code",
   "execution_count": 21,
   "id": "5df1a835-6a54-48d5-8738-37d81a5b2a71",
   "metadata": {},
   "outputs": [
    {
     "name": "stdout",
     "output_type": "stream",
     "text": [
      "\n",
      "Formatted Activity Output:\n",
      "Activity: Organize a bookshelf\n",
      "Key: 6098037\n",
      "Link: \n",
      "Participants: 1\n",
      "Price: $0.00\n",
      "Type: busywork\n",
      "Accessibility: 0\n"
     ]
    }
   ],
   "source": [
    "if specific_data:\n",
    "    print(\"\\nFormatted Activity Output:\")\n",
    "    print(f\"Activity: {specific_data.get('activity')}\")\n",
    "    print(f\"Key: {specific_data.get('key')}\")\n",
    "    print(f\"Link: {specific_data.get('link', '')}\")\n",
    "    print(f\"Participants: {specific_data.get('participants')}\")\n",
    "    print(f\"Price: ${specific_data.get('price', 0.00):.2f}\")\n",
    "    print(f\"Type: {specific_data.get('type')}\")\n",
    "    print(f\"Accessibility: {specific_data.get('accessibility')}\")"
   ]
  }
 ],
 "metadata": {
  "kernelspec": {
   "display_name": "Python 3 (ipykernel)",
   "language": "python",
   "name": "python3"
  },
  "language_info": {
   "codemirror_mode": {
    "name": "ipython",
    "version": 3
   },
   "file_extension": ".py",
   "mimetype": "text/x-python",
   "name": "python",
   "nbconvert_exporter": "python",
   "pygments_lexer": "ipython3",
   "version": "3.12.4"
  }
 },
 "nbformat": 4,
 "nbformat_minor": 5
}
